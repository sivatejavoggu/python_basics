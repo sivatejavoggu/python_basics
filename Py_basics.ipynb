{
 "cells": [
  {
   "cell_type": "code",
   "execution_count": null,
   "id": "6508fc8d",
   "metadata": {},
   "outputs": [],
   "source": [
    "Write a program to accept two numbers from the user and calculate multiplication, division\n",
    "\n",
    "Write a python program to print the characters from a string that are present at an even index\n",
    "\n",
    "Write a python program to print the characters from a string that are present at an odd index\n",
    "\n",
    "Write a python program which will print the sum of the two numbers if the two numbers are even or it will print the difference of two numbers\n",
    "\n",
    "Write a python program to convert all even indexed alphabets to upper and odd indexed alphabets to lower."
   ]
  },
  {
   "cell_type": "code",
   "execution_count": 1,
   "id": "fe9c5fef",
   "metadata": {},
   "outputs": [
    {
     "name": "stdout",
     "output_type": "stream",
     "text": [
      "Enter first number: 55\n",
      "Enter second number: 66\n",
      "Product: 3630.0\n",
      "Quotient: 0.8333333333333334\n"
     ]
    }
   ],
   "source": [
    "#Write a program to accept two numbers from the user and calculate multiplication, division\n",
    "\n",
    "num1 = float(input(\"Enter first number: \"))\n",
    "num2 = float(input(\"Enter second number: \"))\n",
    "\n",
    "product = num1 * num2\n",
    "quotient = num1 / num2\n",
    "\n",
    "print(\"Product:\", product)\n",
    "print(\"Quotient:\", quotient)"
   ]
  },
  {
   "cell_type": "code",
   "execution_count": 9,
   "id": "93d29540",
   "metadata": {},
   "outputs": [
    {
     "name": "stdout",
     "output_type": "stream",
     "text": [
      "Enter a string: khg\n",
      "Even characters: kg\n"
     ]
    }
   ],
   "source": [
    "#Write a python program to print the characters from a string that are present at an even index\n",
    "string = input(\"Enter a string: \")\n",
    "even_chars = string[::2]\n",
    "print(\"Even characters:\", even_chars)"
   ]
  },
  {
   "cell_type": "code",
   "execution_count": 10,
   "id": "ac919c6b",
   "metadata": {},
   "outputs": [
    {
     "name": "stdout",
     "output_type": "stream",
     "text": [
      "Enter a string: jdhdl\n",
      "Odd characters: dd\n"
     ]
    }
   ],
   "source": [
    "#Write a python program to print the characters from a string that are present at an odd index\n",
    "string = input(\"Enter a string: \")\n",
    "odd_chars = string[1::2]\n",
    "print(\"Odd characters:\", odd_chars)"
   ]
  },
  {
   "cell_type": "code",
   "execution_count": 11,
   "id": "d2f5c0a1",
   "metadata": {},
   "outputs": [
    {
     "name": "stdout",
     "output_type": "stream",
     "text": [
      "Difference: 1.0\n"
     ]
    }
   ],
   "source": [
    "#Write a python program which will print the sum of the two numbers if the two numbers are even or it will print the difference of two numbers\n",
    "if num1 % 2 == 0 and num2 % 2 == 0:\n",
    "    print(\"Sum:\", num1 + num2)\n",
    "else:\n",
    "    print(\"Difference:\", num1 - num2)"
   ]
  },
  {
   "cell_type": "code",
   "execution_count": 8,
   "id": "3f21feaf",
   "metadata": {},
   "outputs": [
    {
     "name": "stdout",
     "output_type": "stream",
     "text": [
      "New string: HjH\n"
     ]
    }
   ],
   "source": [
    "# Convert all even indexed alphabets to upper and odd indexed alphabets to lower\n",
    "new_string = \"\"\n",
    "for i in range(len(string)):\n",
    "    if i % 2 == 0:\n",
    "        new_string += string[i].upper()\n",
    "    else:\n",
    "        new_string += string[i].lower()\n",
    "\n",
    "print(\"New string:\", new_string)"
   ]
  }
 ],
 "metadata": {
  "kernelspec": {
   "display_name": "Python 3 (ipykernel)",
   "language": "python",
   "name": "python3"
  },
  "language_info": {
   "codemirror_mode": {
    "name": "ipython",
    "version": 3
   },
   "file_extension": ".py",
   "mimetype": "text/x-python",
   "name": "python",
   "nbconvert_exporter": "python",
   "pygments_lexer": "ipython3",
   "version": "3.9.13"
  }
 },
 "nbformat": 4,
 "nbformat_minor": 5
}
